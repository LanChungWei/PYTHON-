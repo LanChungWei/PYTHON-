{
 "cells": [
  {
   "cell_type": "code",
   "execution_count": null,
   "id": "4ce6858a-e1ab-4781-a9d9-32b5b87af310",
   "metadata": {},
   "outputs": [],
   "source": [
    "from PIL import Image\n",
    "\n",
    "# 使用原始字串 (raw string) 表示檔案路徑\n",
    "pic = Image.open(r'C:\\Users\\Aran\\.jupyter\\S__417811.jpg')\n",
    "\n",
    "# 顯示圖像寬度和高度\n",
    "print('圖像寬度:', pic.width)\n",
    "print('圖像高度:', pic.height)\n",
    "\n",
    "# 顯示圖像格式、模式和大小\n",
    "print('圖像檔案格式:', pic.format)\n",
    "print('圖像色彩模式:', pic.mode)\n",
    "print('圖像大小:', pic.size)\n",
    "\n",
    "# 顯示圖像\n",
    "pic.show()\n",
    "\n",
    "# 轉換圖像色彩模式為灰階\n",
    "print('原本的圖像色彩模式:', pic.mode)\n",
    "new_pic = pic.convert('L')\n",
    "new_pic.show()\n",
    "print('轉換後的圖像色彩模式:', new_pic.mode)\n"
   ]
  },
  {
   "cell_type": "code",
   "execution_count": null,
   "id": "f29021e5-cfcb-4441-9944-b113618f5062",
   "metadata": {},
   "outputs": [],
   "source": [
    "from PIL import Image, ImageFilter, ImageFont, ImageDraw\n",
    "\n",
    "# 確保圖像路徑正確\n",
    "image_path = r'C:\\Users\\Aran\\.jupyter\\S__417811.jpg'\n",
    "\n",
    "# 開啟圖像\n",
    "try:\n",
    "    pic = Image.open(image_path)\n",
    "except FileNotFoundError:\n",
    "    print(f\"文件未找到: {image_path}\")\n",
    "    raise\n",
    "\n",
    "# 旋轉圖像\n",
    "new_pic = pic.rotate(30)\n",
    "new_pic.show()\n",
    "\n",
    "new_pic2 = pic.rotate(-30)\n",
    "new_pic2.show()\n",
    "\n",
    "# 開啟圖像並套用濾鏡\n",
    "pic = Image.open(image_path)\n",
    "new_pic = pic.filter(ImageFilter.CONTOUR)\n",
    "new_pic.save(r'C:\\Users\\Aran\\.jupyter\\Penguins3.jpg')\n",
    "new_pic.show()\n",
    "\n",
    "# 調整圖像大小\n",
    "print('原本大小:', pic.size)\n",
    "new_pic = pic.resize((400, 400))\n",
    "print('變更後的大小:', new_pic.size)\n",
    "new_pic.save(r'C:\\Users\\Aran\\.jupyter\\Penguins4.jpg')\n",
    "new_pic.show()\n",
    "\n",
    "# 在圖像上繪製文字\n",
    "pic = Image.open(image_path)\n",
    "t_font = ImageFont.truetype(r'C:\\Windows\\Fonts\\Arial\\arial.ttf', 30)\n",
    "draw = ImageDraw.Draw(pic)\n",
    "\n",
    "draw.text((20, 30), 'TOKYO', font=t_font, fill=(255, 0, 0, 255))\n",
    "draw.text((20, 100), 'penguin', font=t_font, fill=(0, 255, 0, 255))\n",
    "pic.show()\n"
   ]
  }
 ],
 "metadata": {
  "kernelspec": {
   "display_name": "Python 3 (ipykernel)",
   "language": "python",
   "name": "python3"
  },
  "language_info": {
   "codemirror_mode": {
    "name": "ipython",
    "version": 3
   },
   "file_extension": ".py",
   "mimetype": "text/x-python",
   "name": "python",
   "nbconvert_exporter": "python",
   "pygments_lexer": "ipython3",
   "version": "3.12.3"
  }
 },
 "nbformat": 4,
 "nbformat_minor": 5
}
