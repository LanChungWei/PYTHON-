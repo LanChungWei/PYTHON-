{
 "cells": [
  {
   "cell_type": "code",
   "execution_count": 5,
   "id": "4d82f08d-9484-4d14-9fff-f815df7a0878",
   "metadata": {},
   "outputs": [
    {
     "name": "stdout",
     "output_type": "stream",
     "text": [
      "圖像寬度: 960\n",
      "圖像高度: 1706\n",
      "圖像檔案格式: JPEG\n",
      "圖像色彩模式: RGB\n",
      "圖像大小: (960, 1706)\n",
      "原本的圖像色彩模式: RGB\n",
      "轉換後的圖像色彩模式: L\n"
     ]
    }
   ],
   "source": [
    "from PIL import Image\n",
    "\n",
    "\n",
    "pic = Image.open(r'C:\\Users\\Aran\\.jupyter\\S__417811.jpg')\n",
    "\n",
    "\n",
    "print('圖像寬度:', pic.width)\n",
    "print('圖像高度:', pic.height)\n",
    "\n",
    "\n",
    "print('圖像檔案格式:', pic.format)\n",
    "print('圖像色彩模式:', pic.mode)\n",
    "print('圖像大小:', pic.size)\n",
    "\n",
    "\n",
    "pic.show()\n",
    "\n",
    "\n",
    "print('原本的圖像色彩模式:', pic.mode)\n",
    "new_pic = pic.convert('L')\n",
    "new_pic.show()\n",
    "print('轉換後的圖像色彩模式:', new_pic.mode)\n",
    "\n"
   ]
  },
  {
   "cell_type": "code",
   "execution_count": 13,
   "id": "4cf2088b-9004-40db-a6c8-4093c7c81d1a",
   "metadata": {},
   "outputs": [],
   "source": [
    "new_pic = pic.rotate(30)\n",
    "new_pic.show()\n",
    "\n",
    "new_pic2 = pic.rotate(-30)\n",
    "new_pic2.show()\n"
   ]
  },
  {
   "cell_type": "code",
   "execution_count": 14,
   "id": "a1e62a99-0c42-4b0a-bc45-fea768db0433",
   "metadata": {},
   "outputs": [],
   "source": [
    "pic = Image.open(image_path)\n",
    "new_pic = pic.filter(ImageFilter.CONTOUR)\n",
    "new_pic.save(r'C:\\Users\\Aran\\.jupyter\\Penguins3.jpg')\n",
    "new_pic.show()\n",
    "\n"
   ]
  },
  {
   "cell_type": "code",
   "execution_count": 15,
   "id": "5396a568-5c05-4f86-83f1-4f1565937d0d",
   "metadata": {},
   "outputs": [
    {
     "name": "stdout",
     "output_type": "stream",
     "text": [
      "原本大小: (960, 1706)\n",
      "變更後的大小: (400, 400)\n"
     ]
    }
   ],
   "source": [
    "print('原本大小:', pic.size)\n",
    "new_pic = pic.resize((400, 400))\n",
    "print('變更後的大小:', new_pic.size)\n",
    "new_pic.save(r'C:\\Users\\Aran\\.jupyter\\Penguins4.jpg')\n",
    "new_pic.show()\n",
    "\n"
   ]
  },
  {
   "cell_type": "code",
   "execution_count": 16,
   "id": "59babada-3a2d-40ae-b1d3-153be9a4e98d",
   "metadata": {},
   "outputs": [],
   "source": [
    "pic = Image.open(image_path)\n",
    "t_font = ImageFont.truetype(r'C:\\Windows\\Fonts\\Arial\\arial.ttf', 30)\n",
    "draw = ImageDraw.Draw(pic)\n",
    "\n",
    "draw.text((20, 30), 'Taiwan', font=t_font, fill=(255, 0, 0, 255))\n",
    "draw.text((20, 100), 'Cat', font=t_font, fill=(0, 255, 0, 255))\n",
    "pic.show()\n"
   ]
  },
  {
   "cell_type": "code",
   "execution_count": null,
   "id": "f0ead57c-8c6d-46a1-81c6-f92cf6379f82",
   "metadata": {},
   "outputs": [],
   "source": []
  }
 ],
 "metadata": {
  "kernelspec": {
   "display_name": "Python 3 (ipykernel)",
   "language": "python",
   "name": "python3"
  },
  "language_info": {
   "codemirror_mode": {
    "name": "ipython",
    "version": 3
   },
   "file_extension": ".py",
   "mimetype": "text/x-python",
   "name": "python",
   "nbconvert_exporter": "python",
   "pygments_lexer": "ipython3",
   "version": "3.12.3"
  }
 },
 "nbformat": 4,
 "nbformat_minor": 5
}
